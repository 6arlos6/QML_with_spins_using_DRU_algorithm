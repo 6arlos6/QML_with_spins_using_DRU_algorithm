{
 "cells": [
  {
   "cell_type": "code",
   "execution_count": 2,
   "metadata": {},
   "outputs": [],
   "source": [
    "# from oficial python\n",
    "import numpy as np\n",
    "import matplotlib.pyplot as plt\n",
    "from qutip import Bloch\n",
    "from matplotlib import cm\n",
    "import matplotlib as mpl\n",
    "from qutip import basis, tensor\n",
    "import time\n",
    "from sklearn.model_selection import train_test_split\n",
    "\n",
    "import pennylane as qml\n",
    "\n",
    "# own modules:\n",
    "from dll.spin_procesor_modificated import Quantum_Spin_Proces\n",
    "from dll.main_fun import make_IRIS_v2\n",
    "from dll. baseline_dru_v2 import Modelo_DRU\n",
    "from dll.models import qcircuit_1_qubit_mixed\n",
    "from dll.cost_functions import fidelity_cost\n",
    "from dll.gate_procesor_modificated import CompositeGateProcessor"
   ]
  },
  {
   "cell_type": "code",
   "execution_count": 35,
   "metadata": {},
   "outputs": [
    {
     "name": "stderr",
     "output_type": "stream",
     "text": [
      "Epoch: 100%|██████████| 3/3 [00:02<00:00,  1.24it/s]\n"
     ]
    }
   ],
   "source": [
    "# Global\n",
    "N_qubits = 1\n",
    "\n",
    "\n",
    "# Base line parameters\n",
    "N_layeres = 2\n",
    "n_classes = 3\n",
    "n_features = 3\n",
    "\n",
    "# Spin processor parameters:\n",
    "\n",
    "\n",
    "\n",
    "X, y =  make_IRIS_v2(n_features, n_classes)\n",
    "\n",
    "\n",
    "model = Modelo_DRU(qcircuit_1_qubit_mixed, fidelity_cost,\n",
    "                   epochs = 3, n_clases = n_classes, n_qubits = N_qubits,\n",
    "                   features = n_features, alpha_noise = 0.0, save_process=False,\n",
    "                   num_layers = N_layeres)\n",
    "\n",
    "paramters_bef, bias_bef = model.params, model.bias\n",
    "\n",
    "# splita data:\n",
    "X_train, X_test, y_train, y_test = train_test_split(X, y, test_size = 0.3, random_state=42)\n",
    "\n",
    "# get parameters\n",
    "paramters_1q, bias_1q = model.fit(X_train, y_train, X_test, y_test)"
   ]
  },
  {
   "cell_type": "code",
   "execution_count": 36,
   "metadata": {},
   "outputs": [],
   "source": [
    "def calculate_fidelity(dm_bl, dm_spin):\n",
    "    # Tratamiento de bl:\n",
    "    dm_bl = np.array(dm_bl)\n",
    "    nf, nc = dm_bl.shape\n",
    "    if nf != nc:\n",
    "        dm_bl = dm_bl @ dm_bl.T\n",
    "    # tratamiento spin:\n",
    "    nf, nc = dm_bl.shape\n",
    "    if nf != nc:\n",
    "        dm_bl = dm_bl @ dm_bl.T\n",
    "    def my_fidelity(rho, sigma):\n",
    "        sqrt_rho = np.sqrt(rho)\n",
    "        fidelity_value = np.trace(np.sqrt(np.dot(np.dot(sqrt_rho, sigma), sqrt_rho))) ** 2\n",
    "        return fidelity_value\n",
    "    F = my_fidelity(dm_bl, dm_spin)\n",
    "    return F"
   ]
  },
  {
   "cell_type": "code",
   "execution_count": 46,
   "metadata": {},
   "outputs": [],
   "source": [
    "# Ideal base line\n",
    "x_test_point = model.X_val[1]\n",
    "\n",
    "states_base_line = qml.snapshots(qcircuit_1_qubit_mixed)(paramters_1q, x_test_point, bias=bias_1q)\n",
    "\n",
    "\n",
    "# DRU in spin processor:\n",
    "dru_circuit = CompositeGateProcessor(n_points_pulse_Ri=1000, n_points_pulse_Ri_spl = 100, version_qutip=\"5\",\n",
    "                                    N_qubits = N_qubits, tf_noise = False, tf_quantum_noise = False,\n",
    "                                    ket_dru_0 = basis(2, 0), save_intra_states=True)         \n",
    "                   \n",
    "state_dru = dru_circuit.qcircuit_DRU_1_Qubit(paramters_1q, x_test_point, bias=bias_1q)"
   ]
  },
  {
   "cell_type": "code",
   "execution_count": 47,
   "metadata": {},
   "outputs": [
    {
     "data": {
      "text/plain": [
       "{'ket_1_qubits_0': tensor([[0.94075221+0.j        , 0.05715226-0.22906574j],\n",
       "         [0.05715226+0.22906574j, 0.05924779+0.j        ]], requires_grad=True),\n",
       " 'ket_1_qubits_1': tensor([[0.88515095-1.38777878e-17j, 0.21394177-2.36405727e-01j],\n",
       "         [0.21394177+2.36405727e-01j, 0.11484905-1.38777878e-17j]], requires_grad=True),\n",
       " 'execution_results': tensor([[0.88515095-1.38777878e-17j, 0.21394177-2.36405727e-01j],\n",
       "         [0.21394177+2.36405727e-01j, 0.11484905-1.38777878e-17j]], requires_grad=True)}"
      ]
     },
     "execution_count": 47,
     "metadata": {},
     "output_type": "execute_result"
    }
   ],
   "source": [
    "states_base_line"
   ]
  },
  {
   "cell_type": "code",
   "execution_count": 48,
   "metadata": {},
   "outputs": [
    {
     "data": {
      "text/plain": [
       "{'ket_1_qubits_0': array([[0.75688905-0.60652386j],\n",
       "        [0.19367244+0.14744072j]]),\n",
       " 'ket_1_qubits_1': array([[0.5645366 -0.75262463j],\n",
       "        [0.33746831-0.03114052j]])}"
      ]
     },
     "execution_count": 48,
     "metadata": {},
     "output_type": "execute_result"
    }
   ],
   "source": [
    "dru_circuit.dict_states"
   ]
  },
  {
   "cell_type": "code",
   "execution_count": 49,
   "metadata": {},
   "outputs": [
    {
     "data": {
      "text/latex": [
       "Quantum object: dims=[[2], [1]], shape=(2, 1), type='ket', dtype=Dense$$\\left(\\begin{array}{cc}(0.565-0.753j)\\\\(0.337-0.031j)\\end{array}\\right)$$"
      ],
      "text/plain": [
       "Quantum object: dims=[[2], [1]], shape=(2, 1), type='ket', dtype=Dense\n",
       "Qobj data =\n",
       "[[0.5645366 -0.75262463j]\n",
       " [0.33746831-0.03114052j]]"
      ]
     },
     "execution_count": 49,
     "metadata": {},
     "output_type": "execute_result"
    }
   ],
   "source": [
    "state_dru "
   ]
  },
  {
   "cell_type": "code",
   "execution_count": 50,
   "metadata": {},
   "outputs": [
    {
     "data": {
      "text/plain": [
       "array([[0.88514541+0.j      , 0.21395034-0.236407j],\n",
       "       [0.21395034+0.236407j, 0.11485459+0.j      ]])"
      ]
     },
     "execution_count": 50,
     "metadata": {},
     "output_type": "execute_result"
    }
   ],
   "source": [
    "dm_from_spins = (state_dru*state_dru.dag()).full()\n",
    "dm_from_spins"
   ]
  },
  {
   "cell_type": "code",
   "execution_count": 56,
   "metadata": {},
   "outputs": [
    {
     "data": {
      "text/plain": [
       "0.9999999998942763"
      ]
     },
     "execution_count": 56,
     "metadata": {},
     "output_type": "execute_result"
    }
   ],
   "source": [
    "F  = qml.math.fidelity(dm_from_spins, states_base_line['execution_results'])\n",
    "F"
   ]
  },
  {
   "cell_type": "code",
   "execution_count": 51,
   "metadata": {},
   "outputs": [],
   "source": [
    "def calculate_fidelity(dm_bl, dm_spin):\n",
    "    # Tratamiento de bl:\n",
    "    dm_bl = np.array(dm_bl)\n",
    "    nf, nc = dm_bl.shape\n",
    "    if nf != nc:\n",
    "        dm_bl = dm_bl @ dm_bl.T\n",
    "    # tratamiento spin:\n",
    "    nf, nc = dm_spin.shape\n",
    "    if nf != nc:\n",
    "        dm_spin = dm_spin @ dm_spin.T\n",
    "    return dm_bl, dm_spin "
   ]
  },
  {
   "cell_type": "code",
   "execution_count": 52,
   "metadata": {},
   "outputs": [],
   "source": [
    "a,b = calculate_fidelity(states_base_line['ket_1_qubits_0'], dru_circuit.dict_states['ket_1_qubits_0'])"
   ]
  },
  {
   "cell_type": "code",
   "execution_count": 53,
   "metadata": {},
   "outputs": [
    {
     "data": {
      "text/plain": [
       "(0.8378311723324423-1.9253507586644905j)"
      ]
     },
     "execution_count": 53,
     "metadata": {},
     "output_type": "execute_result"
    }
   ],
   "source": [
    "def my_fidelity(rho, sigma):\n",
    "        sqrt_rho = np.sqrt(rho)\n",
    "        fidelity_value = np.trace(np.sqrt(np.dot(np.dot(sqrt_rho, sigma), sqrt_rho))) ** 2\n",
    "        return fidelity_value\n",
    "\n",
    "f = my_fidelity(a,b)\n",
    "f"
   ]
  },
  {
   "cell_type": "code",
   "execution_count": 54,
   "metadata": {},
   "outputs": [
    {
     "data": {
      "text/plain": [
       "0.34170540608818806"
      ]
     },
     "execution_count": 54,
     "metadata": {},
     "output_type": "execute_result"
    }
   ],
   "source": [
    "qml.math.fidelity(a,b)"
   ]
  }
 ],
 "metadata": {
  "kernelspec": {
   "display_name": "Python 3",
   "language": "python",
   "name": "python3"
  },
  "language_info": {
   "codemirror_mode": {
    "name": "ipython",
    "version": 3
   },
   "file_extension": ".py",
   "mimetype": "text/x-python",
   "name": "python",
   "nbconvert_exporter": "python",
   "pygments_lexer": "ipython3",
   "version": "3.12.3"
  }
 },
 "nbformat": 4,
 "nbformat_minor": 2
}
