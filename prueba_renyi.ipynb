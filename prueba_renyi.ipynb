{
 "cells": [
  {
   "cell_type": "code",
   "execution_count": 1,
   "metadata": {},
   "outputs": [],
   "source": [
    "import pennylane as qml\n",
    "from pennylane import numpy as np"
   ]
  },
  {
   "cell_type": "code",
   "execution_count": 2,
   "metadata": {},
   "outputs": [],
   "source": [
    "def Renyi_Divergence_2(dm_pred, dm_true, alpha_r):\n",
    "  alpha_R = alpha_r\n",
    "  # check si la matriz tiene solo un 1 en su diagonal\n",
    "  condicion_1 = np.count_nonzero(dm_true) == 1\n",
    "  condicion_2 = np.array_equal(np.diag(np.diag(dm_true)), dm_true)\n",
    "  if condicion_1 and condicion_2:\n",
    "    #dm_true = dm_true.astype(np.float64)\n",
    "    indice = np.where(np.diag(dm_true) == 1)[0][0]\n",
    "    const = 0.999\n",
    "    e = dm_true[indice,indice] - const\n",
    "    nf,nc = dm_true.shape\n",
    "    res = e/(nf-1)\n",
    "    dm_true[np.diag_indices_from(dm_true)] = res\n",
    "    dm_true[indice,indice] = const\n",
    "  # sigma:\n",
    "  power_a = (1-alpha_R)/(2*alpha_R)\n",
    "  dm_true_powered = matrix_pow(dm_true, power_a)\n",
    "  # product:\n",
    "  arg_1 = np.dot(np.dot(dm_true_powered, dm_pred), dm_true_powered)\n",
    "  # trace:\n",
    "  tra = np.real(np.trace( matrix_pow(arg_1, alpha_R) ))\n",
    "  # arg of log:\n",
    "  arg_2 = (1/(np.real(np.trace(dm_pred)))) * tra\n",
    "  # log:\n",
    "  arg_3 = np.log(arg_2)\n",
    "  # Divergece:\n",
    "  D = (1/(alpha_R - 1)) * arg_3\n",
    "  return D"
   ]
  },
  {
   "cell_type": "code",
   "execution_count": null,
   "metadata": {},
   "outputs": [],
   "source": []
  }
 ],
 "metadata": {
  "kernelspec": {
   "display_name": ".venv",
   "language": "python",
   "name": "python3"
  },
  "language_info": {
   "codemirror_mode": {
    "name": "ipython",
    "version": 3
   },
   "file_extension": ".py",
   "mimetype": "text/x-python",
   "name": "python",
   "nbconvert_exporter": "python",
   "pygments_lexer": "ipython3",
   "version": "3.12.3"
  }
 },
 "nbformat": 4,
 "nbformat_minor": 2
}
