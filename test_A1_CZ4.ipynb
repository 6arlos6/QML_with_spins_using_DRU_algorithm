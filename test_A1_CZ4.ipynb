{
 "cells": [
  {
   "cell_type": "code",
   "execution_count": 1,
   "metadata": {},
   "outputs": [],
   "source": [
    "import numpy as np\n",
    "import matplotlib.pyplot as plt\n",
    "import os\n",
    "import json\n",
    "from matplotlib.backends.backend_pdf import PdfPages\n",
    "from scipy import stats\n",
    "import pandas as pd\n",
    "\n",
    "import pennylane as qml"
   ]
  },
  {
   "cell_type": "code",
   "execution_count": 14,
   "metadata": {},
   "outputs": [],
   "source": [
    "# Circuito con 4 qubit:\n",
    "dev = qml.device('default.qubit', wires=4)\n",
    "@qml.qnode(dev, interface=None)\n",
    "def qcircuit_4_qubit_mixed():\n",
    "  qml.CZ(wires=[0,3])\n",
    "  qml.Snapshot(f\"ket_4_qubits_entanglement_impar{1}\")\n",
    "  return qml.state()"
   ]
  },
  {
   "cell_type": "code",
   "execution_count": 15,
   "metadata": {},
   "outputs": [
    {
     "data": {
      "text/plain": [
       "array([1.+0.j, 0.+0.j, 0.+0.j, 0.+0.j, 0.+0.j, 0.+0.j, 0.+0.j, 0.+0.j,\n",
       "       0.+0.j, 0.+0.j, 0.+0.j, 0.+0.j, 0.+0.j, 0.+0.j, 0.+0.j, 0.+0.j])"
      ]
     },
     "execution_count": 15,
     "metadata": {},
     "output_type": "execute_result"
    }
   ],
   "source": [
    "state = qcircuit_4_qubit_mixed()\n",
    "state"
   ]
  },
  {
   "cell_type": "code",
   "execution_count": 18,
   "metadata": {},
   "outputs": [
    {
     "name": "stdout",
     "output_type": "stream",
     "text": [
      "Estado inicial 00:\n",
      "[1.+0.j 0.+0.j 0.+0.j 0.+0.j 0.+0.j 0.+0.j 0.+0.j 0.+0.j 0.+0.j 0.+0.j\n",
      " 0.+0.j 0.+0.j 0.+0.j 0.+0.j 0.+0.j 0.+0.j]\n",
      "\n",
      "\n",
      "Estado inicial 01:\n",
      "[0.+0.j 1.+0.j 0.+0.j 0.+0.j 0.+0.j 0.+0.j 0.+0.j 0.+0.j 0.+0.j 0.+0.j\n",
      " 0.+0.j 0.+0.j 0.+0.j 0.+0.j 0.+0.j 0.+0.j]\n",
      "\n",
      "\n",
      "Estado inicial 10:\n",
      "[0.+0.j 0.+0.j 0.+0.j 0.+0.j 0.+0.j 0.+0.j 0.+0.j 0.+0.j 1.+0.j 0.+0.j\n",
      " 0.+0.j 0.+0.j 0.+0.j 0.+0.j 0.+0.j 0.+0.j]\n",
      "\n",
      "\n",
      "Estado inicial 11:\n",
      "[ 0.+0.j  0.+0.j  0.+0.j  0.+0.j  0.+0.j  0.+0.j  0.+0.j  0.+0.j  0.+0.j\n",
      " -1.+0.j  0.+0.j  0.+0.j  0.+0.j  0.+0.j  0.+0.j  0.+0.j]\n",
      "\n",
      "\n"
     ]
    }
   ],
   "source": [
    "import pennylane as qml\n",
    "\n",
    "dev = qml.device('default.qubit', wires=4)\n",
    "\n",
    "def CZ_4(initial_state):\n",
    "    @qml.qnode(dev, interface=None)\n",
    "    def circuit():\n",
    "        # Inicializar el estado\n",
    "        if initial_state == '01':\n",
    "            qml.PauliX(wires=3)\n",
    "        elif initial_state == '10':\n",
    "            qml.PauliX(wires=0)\n",
    "        elif initial_state == '11':\n",
    "            qml.PauliX(wires=0)\n",
    "            qml.PauliX(wires=3)\n",
    "        \n",
    "        # Aplicar las puertas CZ\n",
    "        \n",
    "        qml.CZ(wires=[0, 3])\n",
    "        \n",
    "        qml.Snapshot(f\"ket_4_qubits_entanglement_impar_{initial_state}\")\n",
    "        return qml.state()\n",
    "    \n",
    "    return circuit()\n",
    "\n",
    "# Estados iniciales posibles\n",
    "initial_states = ['00', '01', '10', '11']\n",
    "\n",
    "# Ejecución del circuito para cada estado inicial\n",
    "for state in initial_states:\n",
    "    result = CZ_4(state)\n",
    "    print(f\"Estado inicial {state}:\")\n",
    "    print(result)\n",
    "    print(\"\\n\")"
   ]
  },
  {
   "cell_type": "code",
   "execution_count": 19,
   "metadata": {},
   "outputs": [
    {
     "name": "stdout",
     "output_type": "stream",
     "text": [
      "Estado inicial 00:\n",
      "[1.+0.j 0.+0.j 0.+0.j 0.+0.j 0.+0.j 0.+0.j 0.+0.j 0.+0.j 0.+0.j 0.+0.j\n",
      " 0.+0.j 0.+0.j 0.+0.j 0.+0.j 0.+0.j 0.+0.j]\n",
      "\n",
      "\n",
      "Estado inicial 01:\n",
      "[0.+0.j 0.+0.j 0.+0.j 0.+0.j 0.+0.j 0.+0.j 0.+0.j 0.+0.j 1.+0.j 0.+0.j\n",
      " 0.+0.j 0.+0.j 0.+0.j 0.+0.j 0.+0.j 0.+0.j]\n",
      "\n",
      "\n",
      "Estado inicial 10:\n",
      "[0.+0.j 1.+0.j 0.+0.j 0.+0.j 0.+0.j 0.+0.j 0.+0.j 0.+0.j 0.+0.j 0.+0.j\n",
      " 0.+0.j 0.+0.j 0.+0.j 0.+0.j 0.+0.j 0.+0.j]\n",
      "\n",
      "\n",
      "Estado inicial 11:\n",
      "[0.+0.j 0.+0.j 0.+0.j 0.+0.j 0.+0.j 0.+0.j 0.+0.j 0.+0.j 0.+0.j 1.+0.j\n",
      " 0.+0.j 0.+0.j 0.+0.j 0.+0.j 0.+0.j 0.+0.j]\n",
      "\n",
      "\n"
     ]
    }
   ],
   "source": [
    "dev = qml.device('default.qubit', wires=4)\n",
    "\n",
    "def CZ_4(initial_state):\n",
    "    @qml.qnode(dev, interface=None)\n",
    "    def circuit():\n",
    "        # Inicializar el estado\n",
    "        if initial_state == '01':\n",
    "            qml.PauliX(wires=3)\n",
    "        elif initial_state == '10':\n",
    "            qml.PauliX(wires=0)\n",
    "        elif initial_state == '11':\n",
    "            qml.PauliX(wires=0)\n",
    "            qml.PauliX(wires=3)\n",
    "        \n",
    "        # Aplicar las puertas CZ\n",
    "        \n",
    "        qml.SWAP(wires=[0, 3])\n",
    "        \n",
    "        qml.Snapshot(f\"ket_4_qubits_entanglement_impar_{initial_state}\")\n",
    "        return qml.state()\n",
    "    \n",
    "    return circuit()\n",
    "\n",
    "# Estados iniciales posibles\n",
    "initial_states = ['00', '01', '10', '11']\n",
    "\n",
    "# Ejecución del circuito para cada estado inicial\n",
    "for state in initial_states:\n",
    "    result = CZ_4(state)\n",
    "    print(f\"Estado inicial {state}:\")\n",
    "    print(result)\n",
    "    print(\"\\n\")"
   ]
  },
  {
   "cell_type": "code",
   "execution_count": 77,
   "metadata": {},
   "outputs": [
    {
     "name": "stdout",
     "output_type": "stream",
     "text": [
      "Estado inicial 00:\n",
      "[1.+0.j 0.+0.j 0.+0.j 0.+0.j 0.+0.j 0.+0.j 0.+0.j 0.+0.j 0.+0.j 0.+0.j\n",
      " 0.+0.j 0.+0.j 0.+0.j 0.+0.j 0.+0.j 0.+0.j]\n",
      "\n",
      "\n",
      "Estado inicial 01:\n",
      "[0.+0.j 1.+0.j 0.+0.j 0.+0.j 0.+0.j 0.+0.j 0.+0.j 0.+0.j 0.+0.j 0.+0.j\n",
      " 0.+0.j 0.+0.j 0.+0.j 0.+0.j 0.+0.j 0.+0.j]\n",
      "\n",
      "\n",
      "Estado inicial 10:\n",
      "[0.+0.j 0.+0.j 0.+0.j 0.+0.j 0.+0.j 0.+0.j 0.+0.j 0.+0.j 0.+0.j 1.+0.j\n",
      " 0.+0.j 0.+0.j 0.+0.j 0.+0.j 0.+0.j 0.+0.j]\n",
      "\n",
      "\n",
      "Estado inicial 11:\n",
      "[0.+0.j 0.+0.j 0.+0.j 0.+0.j 0.+0.j 0.+0.j 0.+0.j 0.+0.j 1.+0.j 0.+0.j\n",
      " 0.+0.j 0.+0.j 0.+0.j 0.+0.j 0.+0.j 0.+0.j]\n",
      "\n",
      "\n"
     ]
    }
   ],
   "source": [
    "dev = qml.device('default.qubit', wires=4)\n",
    "\n",
    "def CNOT_4(initial_state):\n",
    "    @qml.qnode(dev, interface=None)\n",
    "    def circuit():\n",
    "        # Inicializar el estado\n",
    "        if initial_state == '01':\n",
    "            qml.PauliX(wires=3)\n",
    "        elif initial_state == '10':\n",
    "            qml.PauliX(wires=0)\n",
    "        elif initial_state == '11':\n",
    "            qml.PauliX(wires=0)\n",
    "            qml.PauliX(wires=3)\n",
    "        \n",
    "        # Aplicar las puertas CZ\n",
    "        \n",
    "        qml.CNOT(wires=[0, 3])\n",
    "        \n",
    "        qml.Snapshot(f\"ket_4_qubits_entanglement_impar_{initial_state}\")\n",
    "        return qml.state()\n",
    "    \n",
    "    return circuit()\n",
    "\n",
    "# Estados iniciales posibles\n",
    "initial_states = ['00', '01', '10', '11']\n",
    "\n",
    "# Ejecución del circuito para cada estado inicial\n",
    "for state in initial_states:\n",
    "    result = CNOT_4(state)\n",
    "    print(f\"Estado inicial {state}:\")\n",
    "    print(result)\n",
    "    print(\"\\n\")"
   ]
  },
  {
   "cell_type": "code",
   "execution_count": 125,
   "metadata": {},
   "outputs": [],
   "source": [
    "dev = qml.device('default.qubit', wires=4)\n",
    "\n",
    "def CZ_4(initial_state):\n",
    "    @qml.qnode(dev, interface=None)\n",
    "    def circuit():\n",
    "        # Inicializar el estado\n",
    "        if initial_state == '01':\n",
    "            qml.PauliX(wires=3)\n",
    "        elif initial_state == '10':\n",
    "            qml.PauliX(wires=0)\n",
    "        elif initial_state == '11':\n",
    "            qml.PauliX(wires=0)\n",
    "            qml.PauliX(wires=3)\n",
    "        \n",
    "        # Aplicar las puertas CZ\n",
    "        \n",
    "        qml.CZ(wires=[0,3])\n",
    "        \n",
    "        qml.Snapshot(f\"ket_4_qubits_entanglement_impar_{initial_state}\")\n",
    "        return qml.state()\n",
    "    \n",
    "    return circuit()"
   ]
  },
  {
   "cell_type": "code",
   "execution_count": 93,
   "metadata": {},
   "outputs": [],
   "source": [
    "dev = qml.device('default.qubit', wires=4)\n",
    "\n",
    "def fq_circuit(initial_state):\n",
    "    @qml.qnode(dev, interface=None)\n",
    "    def circuit():\n",
    "        # Inicializar el estado\n",
    "        if initial_state == '01':\n",
    "            qml.PauliX(wires=3)\n",
    "        elif initial_state == '10':\n",
    "            qml.PauliX(wires=0)\n",
    "        elif initial_state == '11':\n",
    "            qml.PauliX(wires=0)\n",
    "            qml.PauliX(wires=3)\n",
    "        \n",
    "        # Aplicar las puertas CZ\n",
    "        qml.Hadamard(wires=[3])\n",
    "        qml.SWAP(wires=[2, 3])\n",
    "        qml.SWAP(wires=[0, 1])\n",
    "        qml.CNOT(wires=[1, 2])\n",
    "        qml.SWAP(wires=[0, 1])\n",
    "        qml.SWAP(wires=[2, 3])\n",
    "        qml.Hadamard(wires=[3])\n",
    "        \n",
    "        qml.Snapshot(f\"ket_4_qubits_entanglement_impar_{initial_state}\")\n",
    "        return qml.state()\n",
    "    \n",
    "    return circuit()"
   ]
  },
  {
   "cell_type": "code",
   "execution_count": 94,
   "metadata": {},
   "outputs": [
    {
     "data": {
      "text/plain": [
       "array([0.+0.j, 0.+0.j, 0.+0.j, 0.+0.j, 0.+0.j, 0.+0.j, 0.+0.j, 0.+0.j,\n",
       "       1.+0.j, 0.+0.j, 0.+0.j, 0.+0.j, 0.+0.j, 0.+0.j, 0.+0.j, 0.+0.j])"
      ]
     },
     "execution_count": 94,
     "metadata": {},
     "output_type": "execute_result"
    }
   ],
   "source": [
    "result = CNOT_4('11')\n",
    "result "
   ]
  },
  {
   "cell_type": "code",
   "execution_count": 97,
   "metadata": {},
   "outputs": [
    {
     "data": {
      "text/plain": [
       "array([ 0.+0.j,  0.+0.j,  0.+0.j,  0.+0.j,  0.+0.j,  0.+0.j,  0.+0.j,\n",
       "        0.+0.j,  0.+0.j, -1.+0.j,  0.+0.j,  0.+0.j,  0.+0.j,  0.+0.j,\n",
       "        0.+0.j,  0.+0.j])"
      ]
     },
     "execution_count": 97,
     "metadata": {},
     "output_type": "execute_result"
    }
   ],
   "source": [
    "result = fq_circuit('11')\n",
    "result"
   ]
  },
  {
   "cell_type": "code",
   "execution_count": 100,
   "metadata": {},
   "outputs": [
    {
     "data": {
      "text/plain": [
       "array([ 0.+0.j,  0.+0.j,  0.+0.j,  0.+0.j,  0.+0.j,  0.+0.j,  0.+0.j,\n",
       "        0.+0.j,  0.+0.j, -1.+0.j,  0.+0.j,  0.+0.j,  0.+0.j,  0.+0.j,\n",
       "        0.+0.j,  0.+0.j])"
      ]
     },
     "execution_count": 100,
     "metadata": {},
     "output_type": "execute_result"
    }
   ],
   "source": [
    "result = CZ_4('11')\n",
    "result "
   ]
  },
  {
   "cell_type": "markdown",
   "metadata": {},
   "source": [
    "### General"
   ]
  },
  {
   "cell_type": "code",
   "execution_count": 17,
   "metadata": {},
   "outputs": [
    {
     "data": {
      "text/plain": [
       "'\\n  def CNOT_4(self, ket_0, q_obj=[0,3], tf_expect=True):\\n    q_objetivo, q_target = q_obj\\n    state_1 = self.SWAP(ket_0, [], q_obj =   [2,3], tf_expectt = tf_expect).states[-1]\\n    state_2 = self.SWAP(state_1, [], q_obj = [0,1], tf_expectt = tf_expect).states[-1]\\n    state_3 = self.CNOT(state_2, [], q_obj = [1,2], tf_expectt = tf_expect)\\n    state_4 = self.SWAP(state_3, [], q_obj = [0,1], tf_expectt = tf_expect).states[-1]\\n    state_5 = self.SWAP(state_4, [], q_obj = [2,3], tf_expectt = tf_expect).states[-1]\\n    return state_5\\n'"
      ]
     },
     "execution_count": 17,
     "metadata": {},
     "output_type": "execute_result"
    }
   ],
   "source": [
    "# spin moment...\n",
    "\"\"\"\n",
    "  def CNOT_4(self, ket_0, q_obj=[0,3], tf_expect=True):\n",
    "    q_objetivo, q_target = q_obj\n",
    "    state_1 = self.SWAP(ket_0, [], q_obj =   [2,3], tf_expectt = tf_expect).states[-1]\n",
    "    state_2 = self.SWAP(state_1, [], q_obj = [0,1], tf_expectt = tf_expect).states[-1]\n",
    "    state_3 = self.CNOT(state_2, [], q_obj = [1,2], tf_expectt = tf_expect)\n",
    "    state_4 = self.SWAP(state_3, [], q_obj = [0,1], tf_expectt = tf_expect).states[-1]\n",
    "    state_5 = self.SWAP(state_4, [], q_obj = [2,3], tf_expectt = tf_expect).states[-1]\n",
    "    return state_5\n",
    "\"\"\""
   ]
  },
  {
   "cell_type": "code",
   "execution_count": null,
   "metadata": {},
   "outputs": [],
   "source": [
    "\"\"\"\n",
    "  def __init__(self, h = 1, gir = 1.760e11, B0 = -10e-3, nf = 4, N_qubits = 1, J = 1e12, tf_noise = False,\n",
    "                 noise_std = 0.01, B1_offset = 0, n_points_pulse_Ri = 2,\n",
    "                 n_points_pulse_2Qbits = 2, n_swap = 1, T1 = 1e3, T2 = 1e3,\n",
    "                 tf_quantum_noise = False, f_rage = 0, save_time_values = False,\n",
    "                 n_points_pulse_Ri_spl = 1000, save_pulses = False, nstepsolver = 1_000,\n",
    "                 version_qutip = \"5\", free_time = 0):\n",
    "\"\"\""
   ]
  },
  {
   "cell_type": "code",
   "execution_count": 126,
   "metadata": {},
   "outputs": [
    {
     "data": {
      "text/plain": [
       "array([[ 0.  +0.j  ],\n",
       "       [-0.  +0.j  ],\n",
       "       [ 0.  -0.j  ],\n",
       "       [ 0.  -0.j  ],\n",
       "       [ 0.  -0.j  ],\n",
       "       [ 0.  +0.j  ],\n",
       "       [ 0.  -0.j  ],\n",
       "       [-0.  +0.j  ],\n",
       "       [ 0.  +0.j  ],\n",
       "       [-0.71+0.71j],\n",
       "       [-0.  -0.j  ],\n",
       "       [-0.  -0.j  ],\n",
       "       [ 0.  -0.j  ],\n",
       "       [-0.  -0.j  ],\n",
       "       [ 0.  -0.j  ],\n",
       "       [-0.  -0.j  ]])"
      ]
     },
     "execution_count": 126,
     "metadata": {},
     "output_type": "execute_result"
    }
   ],
   "source": [
    "from dll.spin_procesor_modificated import Quantum_Spin_Proces\n",
    "from qutip import basis, tensor\n",
    "\n",
    "# ket0 =  tensor([basis(2, 0)]*N_qubits)\n",
    "ket_0 = tensor(basis(2, 1), basis(2, 0), basis(2, 0), basis(2, 1))\n",
    "\n",
    "\n",
    "\n",
    "model_spin = Quantum_Spin_Proces(N_qubits = 4, n_points_pulse_Ri = 100)\n",
    "\n",
    "state_1 = model_spin.H(ket_0, q_obj = 3, tf_expect = False).states[-1]\n",
    "\n",
    "state_1 = model_spin.SWAP(state_1, [], q_obj = [2,3], tf_expectt = False).states[-1]\n",
    "state_1 = model_spin.SWAP(state_1, [], q_obj = [0,1], tf_expectt = False).states[-1]\n",
    "state_1 = model_spin.CNOT(state_1, [], q_obj = [1,2], tf_expectt = False)\n",
    "state_1 = model_spin.SWAP(state_1, [], q_obj = [0,1], tf_expectt = False).states[-1]\n",
    "state_1 = model_spin.SWAP(state_1, [], q_obj = [2,3], tf_expectt = False).states[-1]\n",
    "\n",
    "state_1 = model_spin.H(state_1, q_obj = 3, tf_expect = False).states[-1]\n",
    "\n",
    "np.round(state_1.full(),2)"
   ]
  },
  {
   "cell_type": "code",
   "execution_count": 141,
   "metadata": {},
   "outputs": [
    {
     "data": {
      "text/plain": [
       "array([[-0.  -0.j  ],\n",
       "       [ 0.  -0.j  ],\n",
       "       [-0.  +0.j  ],\n",
       "       [-0.  +0.j  ],\n",
       "       [ 0.  +0.j  ],\n",
       "       [-0.  -0.j  ],\n",
       "       [ 0.  -0.j  ],\n",
       "       [-0.  +0.j  ],\n",
       "       [ 0.  +0.j  ],\n",
       "       [ 0.71-0.71j],\n",
       "       [ 0.  +0.j  ],\n",
       "       [-0.  -0.j  ],\n",
       "       [-0.  +0.j  ],\n",
       "       [ 0.  +0.j  ],\n",
       "       [-0.  +0.j  ],\n",
       "       [ 0.  +0.j  ]])"
      ]
     },
     "execution_count": 141,
     "metadata": {},
     "output_type": "execute_result"
    }
   ],
   "source": [
    "from dll.gate_procesor_modificated import CompositeGateProcessor\n",
    "\n",
    "ket_0 = tensor(basis(2, 1), basis(2, 0), basis(2, 0), basis(2, 1))\n",
    "\n",
    "dru_circuit = CompositeGateProcessor(n_points_pulse_Ri=5, n_points_pulse_Ri_spl = 100, version_qutip=\"5\",\n",
    "                                      N_qubits = 4, tf_noise = False, tf_quantum_noise = False,\n",
    "                                      ket_dru_0 = ket_0, save_intra_states=True)\n",
    "\n",
    "s = dru_circuit.CZ_4(dru_circuit.ket_dru_0, q_obj=[0,3], tf_expect=False)\n",
    "np.round(s.full(),2)"
   ]
  },
  {
   "cell_type": "code",
   "execution_count": 142,
   "metadata": {},
   "outputs": [
    {
     "data": {
      "text/plain": [
       "array([ 0.+0.j,  0.+0.j,  0.+0.j,  0.+0.j,  0.+0.j,  0.+0.j,  0.+0.j,\n",
       "        0.+0.j,  0.+0.j, -1.+0.j,  0.+0.j,  0.+0.j,  0.+0.j,  0.+0.j,\n",
       "        0.+0.j,  0.+0.j])"
      ]
     },
     "execution_count": 142,
     "metadata": {},
     "output_type": "execute_result"
    }
   ],
   "source": [
    "result = CZ_4('11')\n",
    "result "
   ]
  },
  {
   "cell_type": "code",
   "execution_count": 143,
   "metadata": {},
   "outputs": [
    {
     "data": {
      "text/plain": [
       "array([[0.99999998]])"
      ]
     },
     "execution_count": 143,
     "metadata": {},
     "output_type": "execute_result"
    }
   ],
   "source": [
    "state_bl =  result.reshape(-1,1)\n",
    "state_spin = s.full()\n",
    "\n",
    "F = np.abs(state_bl.T @ state_spin)**2\n",
    "F"
   ]
  }
 ],
 "metadata": {
  "kernelspec": {
   "display_name": "Python 3",
   "language": "python",
   "name": "python3"
  },
  "language_info": {
   "codemirror_mode": {
    "name": "ipython",
    "version": 3
   },
   "file_extension": ".py",
   "mimetype": "text/x-python",
   "name": "python",
   "nbconvert_exporter": "python",
   "pygments_lexer": "ipython3",
   "version": "3.12.3"
  }
 },
 "nbformat": 4,
 "nbformat_minor": 2
}
