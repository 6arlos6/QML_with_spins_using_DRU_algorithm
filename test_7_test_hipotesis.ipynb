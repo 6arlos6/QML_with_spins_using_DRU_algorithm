{
 "cells": [
  {
   "cell_type": "markdown",
   "metadata": {},
   "source": [
    "# Librerias"
   ]
  },
  {
   "cell_type": "code",
   "execution_count": 49,
   "metadata": {},
   "outputs": [],
   "source": [
    "import numpy as np\n",
    "import matplotlib.pyplot as plt\n",
    "import os\n",
    "import json\n",
    "from matplotlib.backends.backend_pdf import PdfPages\n",
    "from scipy import stats\n",
    "import pandas as pd"
   ]
  },
  {
   "cell_type": "code",
   "execution_count": 50,
   "metadata": {},
   "outputs": [],
   "source": [
    "def leer_json_y_convertir_a_np(path):\n",
    "    dict_total = {}\n",
    "    for carpeta in os.listdir(path):\n",
    "        carpeta_path = os.path.join(path, carpeta)\n",
    "        datos_np = []\n",
    "        if os.path.isdir(carpeta_path):\n",
    "            for archivo in os.listdir(carpeta_path):\n",
    "                archivo_path = os.path.join(carpeta_path, archivo)\n",
    "                if archivo.endswith('.json'):\n",
    "                    with open(archivo_path, 'r') as f:\n",
    "                        datos_json = json.load(f)\n",
    "                        # Convertir lista de listas a arreglo numpy\n",
    "                        datos_np.append(np.array(datos_json))\n",
    "        #print(carpeta)\n",
    "        dict_total[carpeta] = datos_np\n",
    "    return dict_total\n",
    "\n",
    "def promedio_y_desviacion(lista_de_arreglos):\n",
    "    # Convertir la lista de arreglos en un solo arreglo numpy tridimensional\n",
    "    arreglo_tridimensional = np.array(lista_de_arreglos)\n",
    "\n",
    "    # Calcular el promedio y la desviación estándar elemento por elemento\n",
    "    promedio = np.mean(arreglo_tridimensional, axis=0)\n",
    "    desviacion_estandar = np.std(arreglo_tridimensional, axis=0)\n",
    "\n",
    "    return promedio, desviacion_estandar"
   ]
  },
  {
   "cell_type": "code",
   "execution_count": 51,
   "metadata": {},
   "outputs": [],
   "source": [
    "def test_de_hipotesis(paths, nick):\n",
    "  data = []\n",
    "  for path_i in paths:\n",
    "    dict_datos = leer_json_y_convertir_a_np(path_i)\n",
    "    list_to_tuple_level = []\n",
    "    for key in dict_datos:\n",
    "      array_list = dict_datos[key]\n",
    "      auc_mean, _ = promedio_y_desviacion(array_list)\n",
    "      flat_arr = auc_mean.flatten()\n",
    "      list_to_tuple_level.append(flat_arr)\n",
    "    # create a matrix stack:\n",
    "    satack_matrix = np.column_stack(tuple(list_to_tuple_level))\n",
    "    # test:\n",
    "    satack_matrix_t = satack_matrix.T\n",
    "    s,p = stats.friedmanchisquare(*satack_matrix_t)\n",
    "    data.append((path_i, s, p))\n",
    "  # Convert the list of tuples to a DataFrame\n",
    "  df = pd.DataFrame(data, columns=['path', 'statistical', 'p-value'])\n",
    "  df.to_excel(f'test_hipotesis_data/{nick}_data.xlsx', index=False)"
   ]
  },
  {
   "cell_type": "code",
   "execution_count": 43,
   "metadata": {},
   "outputs": [],
   "source": [
    "# 1Q:\n",
    "paths = ['resultados_1q_kaggle/3Layers/', \n",
    "         'resultados_1q_kaggle/5Layers/',\n",
    "        'resultados_1q_kaggle/10Layers/']\n",
    "test_de_hipotesis(paths, \"1q\")"
   ]
  },
  {
   "cell_type": "code",
   "execution_count": 52,
   "metadata": {},
   "outputs": [],
   "source": [
    "# 2Q:\n",
    "paths = ['resultados_2q_kaggle/3Layers/', \n",
    "         'resultados_2q_kaggle/5Layers/',\n",
    "        'resultados_2q_kaggle/10Layers/' ]\n",
    "\n",
    "test_de_hipotesis(paths, \"2q\")"
   ]
  },
  {
   "cell_type": "code",
   "execution_count": 53,
   "metadata": {},
   "outputs": [],
   "source": [
    "# 2Q-e:\n",
    "paths = ['resultados_2q_kaggle_entenglament/3Layers/', \n",
    "         'resultados_2q_kaggle_entenglament/5Layers/',\n",
    "         'resultados_2q_kaggle_entenglament/10Layers/']\n",
    "\n",
    "test_de_hipotesis(paths, \"2qe\")"
   ]
  },
  {
   "cell_type": "code",
   "execution_count": 54,
   "metadata": {},
   "outputs": [],
   "source": [
    "# 4Q:\n",
    "paths = ['resultados_4q_kaggle/3Layers/' ,\n",
    "         'resultados_4q_kaggle/5Layers/' ,\n",
    "         'resultados_4q_kaggle/10Layers/' ]\n",
    "\n",
    "test_de_hipotesis(paths, \"4q\")"
   ]
  },
  {
   "cell_type": "code",
   "execution_count": 55,
   "metadata": {},
   "outputs": [],
   "source": [
    "# 4Q-e:\n",
    "paths = ['resultados_4q_kaggle_entenglament/3Layers/' ,\n",
    "         'resultados_4q_kaggle_entenglament/5Layers/' ,\n",
    "         'resultados_4q_kaggle_entenglament/10Layers/' ]\n",
    "\n",
    "test_de_hipotesis(paths, \"4qe\")"
   ]
  }
 ],
 "metadata": {
  "kernelspec": {
   "display_name": "Python 3",
   "language": "python",
   "name": "python3"
  },
  "language_info": {
   "codemirror_mode": {
    "name": "ipython",
    "version": 3
   },
   "file_extension": ".py",
   "mimetype": "text/x-python",
   "name": "python",
   "nbconvert_exporter": "python",
   "pygments_lexer": "ipython3",
   "version": "3.12.3"
  }
 },
 "nbformat": 4,
 "nbformat_minor": 2
}
