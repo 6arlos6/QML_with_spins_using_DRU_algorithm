{
 "cells": [
  {
   "cell_type": "code",
   "execution_count": 2,
   "metadata": {},
   "outputs": [],
   "source": [
    "# from oficial python\n",
    "import numpy as np\n",
    "import matplotlib.pyplot as plt\n",
    "from qutip import Bloch\n",
    "from matplotlib import cm\n",
    "import matplotlib as mpl\n",
    "from qutip import basis, concurrence, Qobj\n",
    "import time\n",
    "from sklearn.model_selection import train_test_split\n",
    "import statistics\n",
    "\n",
    "# own modules:\n",
    "from dll.spin_procesor_modificated import Quantum_Spin_Proces\n",
    "from dll.main_fun import make_IRIS_v2, w_r_json\n",
    "from dll. baseline_dru_v2 import Modelo_DRU\n",
    "from dll.models import qcircuit_1_qubit_mixed\n",
    "from dll.cost_functions import fidelity_cost\n",
    "from dll.gate_procesor_modificated import CompositeGateProcessor"
   ]
  },
  {
   "cell_type": "code",
   "execution_count": null,
   "metadata": {},
   "outputs": [],
   "source": [
    "def plot_concurrence(path):\n",
    "  before, dict_samples_before_1_qubit = w_r_json('r', path)\n",
    "  N_states_bl = len(dict_samples_before_1_qubit)\n",
    "  dict_states_fidelities = []\n",
    "  for i in range(N_states_bl):\n",
    "      dict_bl = dict_samples_before_1_qubit[i]\n",
    "      Fidelities_by_state = {}\n",
    "      for key in dict_bl:\n",
    "          state_bl_i = dict_bl[key].numpy()\n",
    "          state_bl_i  = Qobj(state_bl_i)\n",
    "          state_bl_i.dims = [[2, 2], [2, 2]]\n",
    "          e = concurrence(state_bl_i)\n",
    "          Fidelities_by_state[key] = e\n",
    "      dict_states_fidelities.append(Fidelities_by_state)\n",
    "\n",
    "  ket_labels = list(dict_states_fidelities[0].keys())\n",
    "    #if entanglement == True and model.n_qubits == 2:\n",
    "    #  ket_labels_e = []\n",
    "    #  for i in range(len(dict_states_fidelities[0])):\n",
    "    #    ket_labels_e.append()\n",
    "  promedios = {ket: [] for ket in ket_labels}\n",
    "\n",
    "  for diccionario in dict_states_fidelities:\n",
    "      for ket, valor in diccionario.items():\n",
    "          promedios[ket].append(valor)\n",
    "\n",
    "    # Calcular el promedio para cada 'ket_1_qubit_i'\n",
    "  promedios_mean = {ket: sum(valores) / len(valores) for ket, valores in promedios.items()}\n",
    "  promedios_desviacion = {key: statistics.stdev(values) for key, values in promedios.items()}\n",
    "  # Crear el diagrama de barras\n",
    "  plt.figure(figsize=(12, 4))\n",
    "  plt.grid()\n",
    "  plt.bar(promedios_mean.keys(), promedios_mean.values(), yerr=list(promedios_desviacion.values()), capsize=5, color='blue', alpha=0.7)\n",
    "  plt.xlabel('Qubits')\n",
    "  plt.ylabel('Promedio')\n",
    "  plt.title(f'Promedio de ket_{model.n_qubits}_qubits_i a través de diccionarios')\n",
    "  plt.xticks(rotation=45)\n",
    "  plt.ylim(min(promedios_mean.values()) - 0.1, max(promedios_mean.values()) + 0.5)\n",
    "  plt.show()"
   ]
  },
  {
   "cell_type": "code",
   "execution_count": 4,
   "metadata": {},
   "outputs": [
    {
     "name": "stderr",
     "output_type": "stream",
     "text": [
      "Epoch: 100%|██████████| 8/8 [04:52<00:00, 36.54s/it]\n"
     ]
    }
   ],
   "source": [
    "X, y =  make_IRIS_v2(2,3)\n",
    "\n",
    "model = Modelo_DRU(qcircuit_1_qubit_mixed, fidelity_cost,\n",
    "                   epochs = 8, n_clases = 3, n_qubits = 1,\n",
    "                   features = 2, alpha_noise = 0.0, save_process=True)\n",
    "# splita data:\n",
    "X_train, X_test, y_train, y_test = train_test_split(X, y, test_size = 0.3, random_state=42)\n",
    "\n",
    "# get parameters\n",
    "paramters_1q, bias_1q = model.fit(X_train, y_train, X_test, y_test)"
   ]
  },
  {
   "cell_type": "code",
   "execution_count": null,
   "metadata": {},
   "outputs": [],
   "source": []
  }
 ],
 "metadata": {
  "kernelspec": {
   "display_name": "Python 3",
   "language": "python",
   "name": "python3"
  },
  "language_info": {
   "codemirror_mode": {
    "name": "ipython",
    "version": 3
   },
   "file_extension": ".py",
   "mimetype": "text/x-python",
   "name": "python",
   "nbconvert_exporter": "python",
   "pygments_lexer": "ipython3",
   "version": "3.12.3"
  }
 },
 "nbformat": 4,
 "nbformat_minor": 2
}
